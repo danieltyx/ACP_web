{
  "nbformat": 4,
  "nbformat_minor": 0,
  "metadata": {
    "colab": {
      "name": "715 _pca.ipynb",
      "provenance": [],
      "collapsed_sections": []
    },
    "kernelspec": {
      "display_name": "Python 3",
      "name": "python3"
    },
    "language_info": {
      "name": "python"
    }
  },
  "cells": [
    {
      "cell_type": "code",
      "metadata": {
        "id": "sukITn7wHXae"
      },
      "source": [
        "import pandas as pd\n",
        "import numpy as np\n",
        "from sklearn.decomposition import PCA\n",
        "from sklearn import preprocessing\n",
        "import matplotlib.pyplot as plt\n",
        "from sklearn.preprocessing import OneHotEncoder\n",
        "from sklearn import preprocessing"
      ],
      "execution_count": 702,
      "outputs": []
    },
    {
      "cell_type": "code",
      "metadata": {
        "colab": {
          "base_uri": "https://localhost:8080/",
          "height": 424
        },
        "id": "-W2Pp2-NP8dg",
        "outputId": "52b50bd7-cc37-4563-e5cb-2ffbadb35fd6"
      },
      "source": [
        "df = pd.read_csv('./feifeiin3csv2.csv')\n",
        "df.dropna()\n",
        "df2.dropna()"
      ],
      "execution_count": 703,
      "outputs": [
        {
          "output_type": "execute_result",
          "data": {
            "text/html": [
              "<div>\n",
              "<style scoped>\n",
              "    .dataframe tbody tr th:only-of-type {\n",
              "        vertical-align: middle;\n",
              "    }\n",
              "\n",
              "    .dataframe tbody tr th {\n",
              "        vertical-align: top;\n",
              "    }\n",
              "\n",
              "    .dataframe thead th {\n",
              "        text-align: right;\n",
              "    }\n",
              "</style>\n",
              "<table border=\"1\" class=\"dataframe\">\n",
              "  <thead>\n",
              "    <tr style=\"text-align: right;\">\n",
              "      <th></th>\n",
              "      <th>pain_max</th>\n",
              "      <th>gender</th>\n",
              "      <th>job</th>\n",
              "      <th>age</th>\n",
              "      <th>marriage</th>\n",
              "      <th>pain_min</th>\n",
              "      <th>fee</th>\n",
              "      <th>days</th>\n",
              "      <th>family_numnum</th>\n",
              "    </tr>\n",
              "  </thead>\n",
              "  <tbody>\n",
              "    <tr>\n",
              "      <th>0</th>\n",
              "      <td>5.0</td>\n",
              "      <td>0</td>\n",
              "      <td>5</td>\n",
              "      <td>52</td>\n",
              "      <td>9</td>\n",
              "      <td>0.0</td>\n",
              "      <td>28036.98</td>\n",
              "      <td>18</td>\n",
              "      <td>1</td>\n",
              "    </tr>\n",
              "    <tr>\n",
              "      <th>1</th>\n",
              "      <td>0.0</td>\n",
              "      <td>0</td>\n",
              "      <td>0</td>\n",
              "      <td>65</td>\n",
              "      <td>9</td>\n",
              "      <td>0.0</td>\n",
              "      <td>383549.22</td>\n",
              "      <td>46</td>\n",
              "      <td>0</td>\n",
              "    </tr>\n",
              "    <tr>\n",
              "      <th>2</th>\n",
              "      <td>0.0</td>\n",
              "      <td>0</td>\n",
              "      <td>0</td>\n",
              "      <td>43</td>\n",
              "      <td>9</td>\n",
              "      <td>0.0</td>\n",
              "      <td>383549.22</td>\n",
              "      <td>46</td>\n",
              "      <td>0</td>\n",
              "    </tr>\n",
              "    <tr>\n",
              "      <th>3</th>\n",
              "      <td>0.0</td>\n",
              "      <td>0</td>\n",
              "      <td>5</td>\n",
              "      <td>49</td>\n",
              "      <td>9</td>\n",
              "      <td>0.0</td>\n",
              "      <td>42413.11</td>\n",
              "      <td>21</td>\n",
              "      <td>0</td>\n",
              "    </tr>\n",
              "    <tr>\n",
              "      <th>4</th>\n",
              "      <td>3.0</td>\n",
              "      <td>0</td>\n",
              "      <td>5</td>\n",
              "      <td>52</td>\n",
              "      <td>9</td>\n",
              "      <td>0.0</td>\n",
              "      <td>29759.94</td>\n",
              "      <td>33</td>\n",
              "      <td>1</td>\n",
              "    </tr>\n",
              "    <tr>\n",
              "      <th>...</th>\n",
              "      <td>...</td>\n",
              "      <td>...</td>\n",
              "      <td>...</td>\n",
              "      <td>...</td>\n",
              "      <td>...</td>\n",
              "      <td>...</td>\n",
              "      <td>...</td>\n",
              "      <td>...</td>\n",
              "      <td>...</td>\n",
              "    </tr>\n",
              "    <tr>\n",
              "      <th>4279</th>\n",
              "      <td>3.0</td>\n",
              "      <td>0</td>\n",
              "      <td>1</td>\n",
              "      <td>42</td>\n",
              "      <td>9</td>\n",
              "      <td>0.0</td>\n",
              "      <td>52698.00</td>\n",
              "      <td>28</td>\n",
              "      <td>0</td>\n",
              "    </tr>\n",
              "    <tr>\n",
              "      <th>4280</th>\n",
              "      <td>3.0</td>\n",
              "      <td>1</td>\n",
              "      <td>5</td>\n",
              "      <td>50</td>\n",
              "      <td>9</td>\n",
              "      <td>0.0</td>\n",
              "      <td>37094.50</td>\n",
              "      <td>14</td>\n",
              "      <td>0</td>\n",
              "    </tr>\n",
              "    <tr>\n",
              "      <th>4281</th>\n",
              "      <td>7.0</td>\n",
              "      <td>0</td>\n",
              "      <td>1</td>\n",
              "      <td>42</td>\n",
              "      <td>9</td>\n",
              "      <td>0.0</td>\n",
              "      <td>51976.83</td>\n",
              "      <td>27</td>\n",
              "      <td>0</td>\n",
              "    </tr>\n",
              "    <tr>\n",
              "      <th>4282</th>\n",
              "      <td>0.0</td>\n",
              "      <td>0</td>\n",
              "      <td>1</td>\n",
              "      <td>44</td>\n",
              "      <td>9</td>\n",
              "      <td>0.0</td>\n",
              "      <td>51406.39</td>\n",
              "      <td>23</td>\n",
              "      <td>0</td>\n",
              "    </tr>\n",
              "    <tr>\n",
              "      <th>4283</th>\n",
              "      <td>2.0</td>\n",
              "      <td>0</td>\n",
              "      <td>0</td>\n",
              "      <td>66</td>\n",
              "      <td>9</td>\n",
              "      <td>0.0</td>\n",
              "      <td>75115.66</td>\n",
              "      <td>21</td>\n",
              "      <td>0</td>\n",
              "    </tr>\n",
              "  </tbody>\n",
              "</table>\n",
              "<p>4245 rows × 9 columns</p>\n",
              "</div>"
            ],
            "text/plain": [
              "      pain_max  gender  job  age  ...  pain_min        fee  days  family_numnum\n",
              "0          5.0       0    5   52  ...       0.0   28036.98    18              1\n",
              "1          0.0       0    0   65  ...       0.0  383549.22    46              0\n",
              "2          0.0       0    0   43  ...       0.0  383549.22    46              0\n",
              "3          0.0       0    5   49  ...       0.0   42413.11    21              0\n",
              "4          3.0       0    5   52  ...       0.0   29759.94    33              1\n",
              "...        ...     ...  ...  ...  ...       ...        ...   ...            ...\n",
              "4279       3.0       0    1   42  ...       0.0   52698.00    28              0\n",
              "4280       3.0       1    5   50  ...       0.0   37094.50    14              0\n",
              "4281       7.0       0    1   42  ...       0.0   51976.83    27              0\n",
              "4282       0.0       0    1   44  ...       0.0   51406.39    23              0\n",
              "4283       2.0       0    0   66  ...       0.0   75115.66    21              0\n",
              "\n",
              "[4245 rows x 9 columns]"
            ]
          },
          "metadata": {
            "tags": []
          },
          "execution_count": 703
        }
      ]
    },
    {
      "cell_type": "code",
      "metadata": {
        "id": "kmjmChd3W4_D"
      },
      "source": [
        "df2 = df[['pain_max', 'gender', 'job', 'age', 'marriage ',\n",
        "       'pain_min', 'fee', 'days', 'family_numnum']]\n",
        "df = df[['pain_max', 'gender', 'job', 'age', 'marriage ',\n",
        "       'pain_min', 'fee', 'days', 'family_numnum']]\n",
        "\n",
        "# Apply one-hot encoder to each column with categorical data\n",
        "gender_cols = ['gender']\n",
        "marriage_cols = ['marriage ']\n",
        "job_cols = ['job']\n",
        "\n",
        "OH_encoder = OneHotEncoder(handle_unknown='ignore', sparse=False)\n",
        "OH_cols = pd.DataFrame(OH_encoder.fit_transform(df2[gender_cols]))\n",
        "OH_cols.index = df.index\n",
        "num_X = df.drop(gender_cols, axis=1)\n",
        "OH_X = pd.concat([num_X, OH_cols], axis=1)\n",
        "df = OH_X\n",
        "df.columns = ['pain_max', 'job', 'age', 'marriage ', 'pain_min', 'fee',\n",
        "       'days', 'family_numnum','female','male']\n",
        "\n",
        "OH_encoder = OneHotEncoder(handle_unknown='ignore', sparse=False)\n",
        "OH_cols = pd.DataFrame(OH_encoder.fit_transform(df2[marriage_cols]))\n",
        "OH_cols.index = df.index\n",
        "num_X = df.drop(marriage_cols, axis=1)\n",
        "OH_X = pd.concat([num_X, OH_cols], axis=1)\n",
        "\n",
        "df =OH_X\n",
        "df.columns = ['pain_max', 'job', 'age', 'pain_min', 'fee',\n",
        "       'days', 'family_numnum','female','male','single','marriaged','divorced','m_unknown']\n",
        "\n",
        "OH_encoder = OneHotEncoder(handle_unknown='ignore', sparse=False)\n",
        "OH_cols = pd.DataFrame(OH_encoder.fit_transform(df2[job_cols]))\n",
        "OH_cols.index = df.index\n",
        "num_X = df.drop(job_cols, axis=1)\n",
        "OH_X = pd.concat([num_X, OH_cols], axis=1)\n",
        "df =OH_X\n",
        "df.columns = ['pain_max', 'age', 'pain_min', 'fee',\n",
        "       'days', 'family_numnum','female','male','single','marriaged','divorced','m_unknown','worker','farmer','retired','stu','culture','house','info','free','none']\n",
        "\n",
        "#Normalization\n",
        "x = df.values \n",
        "min_max_scaler = preprocessing.MinMaxScaler()\n",
        "x_scaled = min_max_scaler.fit_transform(x)\n",
        "df = pd.DataFrame(x_scaled)\n",
        "df = df.dropna()\n",
        "df.columns = ['pain_max', 'age', 'pain_min', 'fee',\n",
        "       'days', 'family_anumnum','female','male','single','marriaged','divorced','m_unknown','worker','farmer','retired','stu','culture','house','info','free','none']\n",
        "       "
      ],
      "execution_count": 704,
      "outputs": []
    },
    {
      "cell_type": "markdown",
      "metadata": {
        "id": "JNDVnPzrmebI"
      },
      "source": [
        "## t-SNE"
      ]
    },
    {
      "cell_type": "code",
      "metadata": {
        "colab": {
          "base_uri": "https://localhost:8080/",
          "height": 380
        },
        "id": "8N_TYwV8aWMK",
        "outputId": "6d110c03-ed54-4a25-a4f6-79e1cc3c69e4"
      },
      "source": [
        "import numpy as np\n",
        "import matplotlib.pyplot as plt\n",
        "from matplotlib import offsetbox\n",
        "from sklearn import manifold, datasets, decomposition, ensemble, discriminant_analysis, random_projection, neighbors\n",
        "import seaborn as sns\n",
        "# t-SNE embedding of the digits dataset\n",
        "tsne = manifold.TSNE(n_components=2,perplexity = 45, init='pca', random_state=0)\n",
        "X_tsne = tsne.fit_transform(df)\n",
        "\n",
        "\n",
        "for i in range(0,5):\n",
        "  centroids_series = pd.Series(centroids[i], index = df.columns)\n",
        "  df = df.append(centroids_series, ignore_index=True)\n",
        "marker_cent = []\n",
        "\n",
        "for i in range(4245):\n",
        "  if i<=4239:\n",
        "    marker_cent.append(0)\n",
        "  else:\n",
        "    marker_cent.append(255)\n",
        "\n",
        "X_tsne_2 = tsne.fit_transform(centroids)\n",
        "tsne_df = pd.DataFrame(data=X_tsne)\n",
        "tsne_df['mm'] = marker_cent\n",
        "sns.scatterplot(data = tsne_df[:2000], x = 0, y=1,hue ='mm')\n",
        "sns.scatterplot(data = tsne_df[-5:], x = 0, y=1,hue ='mm')\n"
      ],
      "execution_count": 707,
      "outputs": [
        {
          "output_type": "error",
          "ename": "ValueError",
          "evalue": "ignored",
          "traceback": [
            "\u001b[0;31m---------------------------------------------------------------------------\u001b[0m",
            "\u001b[0;31mValueError\u001b[0m                                Traceback (most recent call last)",
            "\u001b[0;32m<ipython-input-707-f0f7f84a4b8a>\u001b[0m in \u001b[0;36m<module>\u001b[0;34m()\u001b[0m\n\u001b[1;32m     22\u001b[0m \u001b[0mX_tsne_2\u001b[0m \u001b[0;34m=\u001b[0m \u001b[0mtsne\u001b[0m\u001b[0;34m.\u001b[0m\u001b[0mfit_transform\u001b[0m\u001b[0;34m(\u001b[0m\u001b[0mcentroids\u001b[0m\u001b[0;34m)\u001b[0m\u001b[0;34m\u001b[0m\u001b[0;34m\u001b[0m\u001b[0m\n\u001b[1;32m     23\u001b[0m \u001b[0mtsne_df\u001b[0m \u001b[0;34m=\u001b[0m \u001b[0mpd\u001b[0m\u001b[0;34m.\u001b[0m\u001b[0mDataFrame\u001b[0m\u001b[0;34m(\u001b[0m\u001b[0mdata\u001b[0m\u001b[0;34m=\u001b[0m\u001b[0mX_tsne\u001b[0m\u001b[0;34m)\u001b[0m\u001b[0;34m\u001b[0m\u001b[0;34m\u001b[0m\u001b[0m\n\u001b[0;32m---> 24\u001b[0;31m \u001b[0mtsne_df\u001b[0m\u001b[0;34m[\u001b[0m\u001b[0;34m'mm'\u001b[0m\u001b[0;34m]\u001b[0m \u001b[0;34m=\u001b[0m \u001b[0mmarker_cent\u001b[0m\u001b[0;34m\u001b[0m\u001b[0;34m\u001b[0m\u001b[0m\n\u001b[0m\u001b[1;32m     25\u001b[0m \u001b[0msns\u001b[0m\u001b[0;34m.\u001b[0m\u001b[0mscatterplot\u001b[0m\u001b[0;34m(\u001b[0m\u001b[0mdata\u001b[0m \u001b[0;34m=\u001b[0m \u001b[0mtsne_df\u001b[0m\u001b[0;34m[\u001b[0m\u001b[0;34m:\u001b[0m\u001b[0;36m2000\u001b[0m\u001b[0;34m]\u001b[0m\u001b[0;34m,\u001b[0m \u001b[0mx\u001b[0m \u001b[0;34m=\u001b[0m \u001b[0;36m0\u001b[0m\u001b[0;34m,\u001b[0m \u001b[0my\u001b[0m\u001b[0;34m=\u001b[0m\u001b[0;36m1\u001b[0m\u001b[0;34m,\u001b[0m\u001b[0mhue\u001b[0m \u001b[0;34m=\u001b[0m\u001b[0;34m'mm'\u001b[0m\u001b[0;34m)\u001b[0m\u001b[0;34m\u001b[0m\u001b[0;34m\u001b[0m\u001b[0m\n\u001b[1;32m     26\u001b[0m \u001b[0msns\u001b[0m\u001b[0;34m.\u001b[0m\u001b[0mscatterplot\u001b[0m\u001b[0;34m(\u001b[0m\u001b[0mdata\u001b[0m \u001b[0;34m=\u001b[0m \u001b[0mtsne_df\u001b[0m\u001b[0;34m[\u001b[0m\u001b[0;34m-\u001b[0m\u001b[0;36m5\u001b[0m\u001b[0;34m:\u001b[0m\u001b[0;34m]\u001b[0m\u001b[0;34m,\u001b[0m \u001b[0mx\u001b[0m \u001b[0;34m=\u001b[0m \u001b[0;36m0\u001b[0m\u001b[0;34m,\u001b[0m \u001b[0my\u001b[0m\u001b[0;34m=\u001b[0m\u001b[0;36m1\u001b[0m\u001b[0;34m,\u001b[0m\u001b[0mhue\u001b[0m \u001b[0;34m=\u001b[0m\u001b[0;34m'mm'\u001b[0m\u001b[0;34m)\u001b[0m\u001b[0;34m\u001b[0m\u001b[0;34m\u001b[0m\u001b[0m\n",
            "\u001b[0;32m/usr/local/lib/python3.7/dist-packages/pandas/core/frame.py\u001b[0m in \u001b[0;36m__setitem__\u001b[0;34m(self, key, value)\u001b[0m\n\u001b[1;32m   3042\u001b[0m         \u001b[0;32melse\u001b[0m\u001b[0;34m:\u001b[0m\u001b[0;34m\u001b[0m\u001b[0;34m\u001b[0m\u001b[0m\n\u001b[1;32m   3043\u001b[0m             \u001b[0;31m# set column\u001b[0m\u001b[0;34m\u001b[0m\u001b[0;34m\u001b[0m\u001b[0;34m\u001b[0m\u001b[0m\n\u001b[0;32m-> 3044\u001b[0;31m             \u001b[0mself\u001b[0m\u001b[0;34m.\u001b[0m\u001b[0m_set_item\u001b[0m\u001b[0;34m(\u001b[0m\u001b[0mkey\u001b[0m\u001b[0;34m,\u001b[0m \u001b[0mvalue\u001b[0m\u001b[0;34m)\u001b[0m\u001b[0;34m\u001b[0m\u001b[0;34m\u001b[0m\u001b[0m\n\u001b[0m\u001b[1;32m   3045\u001b[0m \u001b[0;34m\u001b[0m\u001b[0m\n\u001b[1;32m   3046\u001b[0m     \u001b[0;32mdef\u001b[0m \u001b[0m_setitem_slice\u001b[0m\u001b[0;34m(\u001b[0m\u001b[0mself\u001b[0m\u001b[0;34m,\u001b[0m \u001b[0mkey\u001b[0m\u001b[0;34m:\u001b[0m \u001b[0mslice\u001b[0m\u001b[0;34m,\u001b[0m \u001b[0mvalue\u001b[0m\u001b[0;34m)\u001b[0m\u001b[0;34m:\u001b[0m\u001b[0;34m\u001b[0m\u001b[0;34m\u001b[0m\u001b[0m\n",
            "\u001b[0;32m/usr/local/lib/python3.7/dist-packages/pandas/core/frame.py\u001b[0m in \u001b[0;36m_set_item\u001b[0;34m(self, key, value)\u001b[0m\n\u001b[1;32m   3118\u001b[0m         \"\"\"\n\u001b[1;32m   3119\u001b[0m         \u001b[0mself\u001b[0m\u001b[0;34m.\u001b[0m\u001b[0m_ensure_valid_index\u001b[0m\u001b[0;34m(\u001b[0m\u001b[0mvalue\u001b[0m\u001b[0;34m)\u001b[0m\u001b[0;34m\u001b[0m\u001b[0;34m\u001b[0m\u001b[0m\n\u001b[0;32m-> 3120\u001b[0;31m         \u001b[0mvalue\u001b[0m \u001b[0;34m=\u001b[0m \u001b[0mself\u001b[0m\u001b[0;34m.\u001b[0m\u001b[0m_sanitize_column\u001b[0m\u001b[0;34m(\u001b[0m\u001b[0mkey\u001b[0m\u001b[0;34m,\u001b[0m \u001b[0mvalue\u001b[0m\u001b[0;34m)\u001b[0m\u001b[0;34m\u001b[0m\u001b[0;34m\u001b[0m\u001b[0m\n\u001b[0m\u001b[1;32m   3121\u001b[0m         \u001b[0mNDFrame\u001b[0m\u001b[0;34m.\u001b[0m\u001b[0m_set_item\u001b[0m\u001b[0;34m(\u001b[0m\u001b[0mself\u001b[0m\u001b[0;34m,\u001b[0m \u001b[0mkey\u001b[0m\u001b[0;34m,\u001b[0m \u001b[0mvalue\u001b[0m\u001b[0;34m)\u001b[0m\u001b[0;34m\u001b[0m\u001b[0;34m\u001b[0m\u001b[0m\n\u001b[1;32m   3122\u001b[0m \u001b[0;34m\u001b[0m\u001b[0m\n",
            "\u001b[0;32m/usr/local/lib/python3.7/dist-packages/pandas/core/frame.py\u001b[0m in \u001b[0;36m_sanitize_column\u001b[0;34m(self, key, value, broadcast)\u001b[0m\n\u001b[1;32m   3766\u001b[0m \u001b[0;34m\u001b[0m\u001b[0m\n\u001b[1;32m   3767\u001b[0m             \u001b[0;31m# turn me into an ndarray\u001b[0m\u001b[0;34m\u001b[0m\u001b[0;34m\u001b[0m\u001b[0;34m\u001b[0m\u001b[0m\n\u001b[0;32m-> 3768\u001b[0;31m             \u001b[0mvalue\u001b[0m \u001b[0;34m=\u001b[0m \u001b[0msanitize_index\u001b[0m\u001b[0;34m(\u001b[0m\u001b[0mvalue\u001b[0m\u001b[0;34m,\u001b[0m \u001b[0mself\u001b[0m\u001b[0;34m.\u001b[0m\u001b[0mindex\u001b[0m\u001b[0;34m)\u001b[0m\u001b[0;34m\u001b[0m\u001b[0;34m\u001b[0m\u001b[0m\n\u001b[0m\u001b[1;32m   3769\u001b[0m             \u001b[0;32mif\u001b[0m \u001b[0;32mnot\u001b[0m \u001b[0misinstance\u001b[0m\u001b[0;34m(\u001b[0m\u001b[0mvalue\u001b[0m\u001b[0;34m,\u001b[0m \u001b[0;34m(\u001b[0m\u001b[0mnp\u001b[0m\u001b[0;34m.\u001b[0m\u001b[0mndarray\u001b[0m\u001b[0;34m,\u001b[0m \u001b[0mIndex\u001b[0m\u001b[0;34m)\u001b[0m\u001b[0;34m)\u001b[0m\u001b[0;34m:\u001b[0m\u001b[0;34m\u001b[0m\u001b[0;34m\u001b[0m\u001b[0m\n\u001b[1;32m   3770\u001b[0m                 \u001b[0;32mif\u001b[0m \u001b[0misinstance\u001b[0m\u001b[0;34m(\u001b[0m\u001b[0mvalue\u001b[0m\u001b[0;34m,\u001b[0m \u001b[0mlist\u001b[0m\u001b[0;34m)\u001b[0m \u001b[0;32mand\u001b[0m \u001b[0mlen\u001b[0m\u001b[0;34m(\u001b[0m\u001b[0mvalue\u001b[0m\u001b[0;34m)\u001b[0m \u001b[0;34m>\u001b[0m \u001b[0;36m0\u001b[0m\u001b[0;34m:\u001b[0m\u001b[0;34m\u001b[0m\u001b[0;34m\u001b[0m\u001b[0m\n",
            "\u001b[0;32m/usr/local/lib/python3.7/dist-packages/pandas/core/internals/construction.py\u001b[0m in \u001b[0;36msanitize_index\u001b[0;34m(data, index)\u001b[0m\n\u001b[1;32m    746\u001b[0m     \u001b[0;32mif\u001b[0m \u001b[0mlen\u001b[0m\u001b[0;34m(\u001b[0m\u001b[0mdata\u001b[0m\u001b[0;34m)\u001b[0m \u001b[0;34m!=\u001b[0m \u001b[0mlen\u001b[0m\u001b[0;34m(\u001b[0m\u001b[0mindex\u001b[0m\u001b[0;34m)\u001b[0m\u001b[0;34m:\u001b[0m\u001b[0;34m\u001b[0m\u001b[0;34m\u001b[0m\u001b[0m\n\u001b[1;32m    747\u001b[0m         raise ValueError(\n\u001b[0;32m--> 748\u001b[0;31m             \u001b[0;34m\"Length of values \"\u001b[0m\u001b[0;34m\u001b[0m\u001b[0;34m\u001b[0m\u001b[0m\n\u001b[0m\u001b[1;32m    749\u001b[0m             \u001b[0;34mf\"({len(data)}) \"\u001b[0m\u001b[0;34m\u001b[0m\u001b[0;34m\u001b[0m\u001b[0m\n\u001b[1;32m    750\u001b[0m             \u001b[0;34m\"does not match length of index \"\u001b[0m\u001b[0;34m\u001b[0m\u001b[0;34m\u001b[0m\u001b[0m\n",
            "\u001b[0;31mValueError\u001b[0m: Length of values (4245) does not match length of index (4250)"
          ]
        }
      ]
    },
    {
      "cell_type": "code",
      "metadata": {
        "id": "zfT4w_GXP8hl"
      },
      "source": [
        "# pca = PCA()\n",
        "# pca.fit(scaled_data)\n",
        "# pca_data = pca.transform(scaled_data)"
      ],
      "execution_count": 680,
      "outputs": []
    },
    {
      "cell_type": "code",
      "metadata": {
        "id": "yt_ARb4za9ER"
      },
      "source": [
        ""
      ],
      "execution_count": 651,
      "outputs": []
    },
    {
      "cell_type": "markdown",
      "metadata": {
        "id": "iUsE11H3miCA"
      },
      "source": [
        "## PCA"
      ]
    },
    {
      "cell_type": "code",
      "metadata": {
        "id": "Yn-F7n0rP8jh",
        "colab": {
          "base_uri": "https://localhost:8080/",
          "height": 573
        },
        "outputId": "a1006888-8b20-43aa-e8eb-ef27945e72b0"
      },
      "source": [
        "per_var = np.round(pca.explained_variance_ratio_* 100, decimals=1)\n",
        "labels = ['PC' + str(x) for x in range(1, len(per_var)+1)]\n",
        "\n",
        "plt.bar(x=range(1, len(per_var)+1), height=per_var, tick_label=labels)\n",
        "plt.ylabel('Precentage of Explained Variance')\n",
        "plt.xlabel('Principal Component')\n",
        "plt.title('Scree Plot')\n",
        "plt.show()\n",
        "\n",
        "pca_df = pd.DataFrame(pca_data, index=[['pain_max', 'gender', 'job', 'age', 'marriage ',\n",
        "       'pain_min', 'fee', 'days', 'family_numnum']],columns=labels)\n",
        "plt.scatter(pca_df.PC1, pca_df.PC2)\n",
        "plt.title('My PCA Graph')\n",
        "plt.xlabel('PC1 - {0}%'.format(per_var[0]))\n",
        "plt.ylabel('PC2 - {0}%'.format(per_var[1]))\n",
        " \n",
        "for sample in pca_df.index:\n",
        "    plt.annotate(sample, (pca_df.PC1.loc[sample], pca_df.PC2.loc[sample]))\n",
        " \n",
        "plt.show()\n",
        "\n",
        "df = df.dropna()\n",
        "df2 = df2.dropna()"
      ],
      "execution_count": 708,
      "outputs": [
        {
          "output_type": "display_data",
          "data": {
            "image/png": "[encoded data removed]",
            "text/plain": [
              "<Figure size 432x288 with 1 Axes>"
            ]
          },
          "metadata": {
            "tags": [],
            "needs_background": "light"
          }
        },
        {
          "output_type": "display_data",
          "data": {
            "image/png": "[encoded data removed]",
            "text/plain": [
              "<Figure size 432x288 with 1 Axes>"
            ]
          },
          "metadata": {
            "tags": [],
            "needs_background": "light"
          }
        }
      ]
    },
    {
      "cell_type": "markdown",
      "metadata": {
        "id": "UKFmt7X7RNaU"
      },
      "source": [
        "## KMEANS"
      ]
    },
    {
      "cell_type": "code",
      "metadata": {
        "id": "TkUaGVADqsMb",
        "colab": {
          "base_uri": "https://localhost:8080/"
        },
        "outputId": "2b1a19ff-8f15-41dd-b2a0-f48f8010c545"
      },
      "source": [
        "\n",
        "import matplotlib.pyplot as plt\n",
        "from sklearn.cluster import KMeans\n",
        "from pandas import DataFrame\n",
        "\n",
        "#[ 'pain_max', 'gender', 'job', 'age', 'marriage ',\n",
        "#      'pain_min', 'fee', 'days', 'family_numnum']\n",
        "\n",
        "\n",
        "Data = {\n",
        "        'x1':df['pain_max'],\n",
        "        'x4':df['age'],\n",
        "        'x6':df['pain_min'],\n",
        "        'x7':df['fee'],\n",
        "        'x8':df['days'],\n",
        "        'x9':df['family_numnum'],\n",
        "        'x10':df['female'],\n",
        "        'x11':df['male'],\n",
        "        'x12':df['single'],\n",
        "        'x13':df['marriaged'],\n",
        "        'x14':df['divorced'],\n",
        "        'x15':df['m_unknown'],\n",
        "        'x16':df['worker'],\n",
        "        'x17':df['farmer'],\n",
        "        'x18':df['retired'],\n",
        "        'x19':df['stu'],\n",
        "        'x20':df['culture'],\n",
        "        'x21':df['house'],\n",
        "        'x22':df['info'],\n",
        "        'x23':df['free'],\n",
        "        'x24':df['none']\n",
        "        }\n",
        "\n",
        "df = DataFrame(Data,columns=['x1','x4','x6','x7','x8','x9','x10','x11','x12','x13','x14','x15','x16','x17','x18','x19','x20','x21','x22','x23','x24'])\n",
        "df = df.dropna()\n",
        "kmeans = KMeans(n_clusters=5).fit(df)\n",
        "centroids = kmeans.cluster_centers_\n",
        "\n",
        "print(min_max_scaler.inverse_transform(centroids))\n",
        "#print(centroids)\n",
        "\n",
        "\n",
        "in_centroids = min_max_scaler.inverse_transform(centroids)\n",
        "df3 = pd.DataFrame(data=in_centroids)"
      ],
      "execution_count": 664,
      "outputs": [
        {
          "output_type": "stream",
          "text": [
            "[[ 2.42049235e+00  5.48715902e+01  1.27079175e-01  6.31241186e+04\n",
            "   2.72807718e+01  4.23819029e-01  1.00000000e+00 -2.04281037e-14\n",
            "   3.32667997e-03  9.43446440e-01  5.32268796e-03  4.79041916e-02\n",
            "   2.80771790e-01  2.64138390e-01  5.98802395e-02  6.65335995e-04\n",
            "   6.65335995e-02  2.40851630e-01  4.85695276e-02  4.65735196e-03\n",
            "   3.39321357e-02]\n",
            " [ 2.67892504e+00  5.87043847e+01  1.31541726e-01  1.02158157e+05\n",
            "   3.95700141e+01  5.02121641e-01 -2.38697950e-15  1.00000000e+00\n",
            "   9.90099010e-03  9.32107496e-01  2.82885431e-03  5.51626591e-02\n",
            "   1.00000000e+00 -5.82867088e-16  5.68989300e-16  1.17093835e-17\n",
            "  -1.52655666e-15 -3.99680289e-15 -4.71844785e-16 -7.11236625e-17\n",
            "   1.35308431e-16]\n",
            " [ 2.59498681e+00  5.96583113e+01  1.33245383e-01  4.07742061e+04\n",
            "   2.06609499e+01  3.61477573e-01 -2.72004641e-15  1.00000000e+00\n",
            "   1.84696570e-02  9.53825858e-01  3.95778364e-03  2.37467018e-02\n",
            "  -2.22044605e-15 -1.36002321e-15  3.13984169e-01  6.59630607e-03\n",
            "   4.16886544e-01 -4.16333634e-15  1.56992084e-01  2.11081794e-02\n",
            "   8.44327177e-02]\n",
            " [ 2.62433155e+00  5.86256684e+01  1.37700535e-01  3.26524015e+04\n",
            "   1.93556150e+01  4.39839572e-01 -2.66453526e-15  1.00000000e+00\n",
            "   9.35828877e-03  9.39839572e-01  1.33689840e-03  4.94652406e-02\n",
            "  -2.10942375e-15 -1.22124533e-15  6.66133815e-16  6.72205347e-18\n",
            "  -1.60982339e-15  1.00000000e+00 -4.78783679e-16 -6.67868538e-17\n",
            "   1.38777878e-16]\n",
            " [ 2.78638941e+00  5.79659735e+01  1.55009452e-01  5.80753150e+04\n",
            "   2.77410208e+01  7.05103970e-01 -5.55111512e-16  1.00000000e+00\n",
            "   1.89035917e-03  9.84877127e-01  3.78071834e-03  9.45179584e-03\n",
            "   1.44328993e-15  1.00000000e+00  2.77555756e-17  4.77048956e-18\n",
            "  -9.85322934e-16 -3.16413562e-15 -3.95516953e-16 -6.15826834e-17\n",
            "   1.28369537e-16]]\n"
          ],
          "name": "stdout"
        }
      ]
    },
    {
      "cell_type": "markdown",
      "metadata": {
        "id": "fAnTOUvDRWTW"
      },
      "source": [
        "## Others"
      ]
    },
    {
      "cell_type": "code",
      "metadata": {
        "id": "Qb1Sf2Dj1q4j"
      },
      "source": [
        "class patients_in2out:\n",
        "  gender = 0\n",
        "  gender_out = \"\"\n",
        "  marriage = 0\n",
        "  marriage_out =\"\"\n",
        "  job = 0\n",
        "  job_out = \"\"\n",
        "  def __init__(self,gender,marriage,job):\n",
        "    if gender == 0:\n",
        "      gender_out = \"女\"\n",
        "    else:\n",
        "      gender_out = \"男\"\n",
        "\n",
        "    if marriage == 0:\n",
        "      marriage_out = \"未婚\"\n",
        "    elif marriage == 1:\n",
        "      marriage_out = \"已婚\"\n",
        "    elif marriage == 2:\n",
        "      marriage_out ==\"离异\"\n",
        "    \n",
        "  def get_job(self,job):\n",
        "    return self.job_out\n",
        "\n",
        "  def get_marriage(self,job):\n",
        "    return self.marriage_out\n",
        "\n",
        "  def get_gender(self,job):\n",
        "   return self.gender_out\n",
        "\n",
        "\n"
      ],
      "execution_count": 670,
      "outputs": []
    }
  ]
}